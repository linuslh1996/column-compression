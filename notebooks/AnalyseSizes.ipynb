{
 "cells": [
  {
   "cell_type": "code",
   "execution_count": 39,
   "metadata": {},
   "outputs": [],
   "source": [
    "from typing import List, Dict\n",
    "import pandas as pd\n",
    "from pathlib import Path\n",
    "from pandas import DataFrame\n",
    "import matplotlib.pyplot as plt"
   ]
  },
  {
   "cell_type": "code",
   "execution_count": 82,
   "metadata": {},
   "outputs": [],
   "source": [
    "data_path = Path(\"../data/sizes\")\n",
    "\n",
    "def load_table(path: Path) -> DataFrame:\n",
    "    all_entries: List[List[str]] = []\n",
    "    column_names: List[str] = []\n",
    "    types: List[str] = []\n",
    "    with path.open() as file:\n",
    "        table_starts: bool = False\n",
    "        for line in file:\n",
    "            if len(column_names) != 0 and table_starts and not '|' in line:\n",
    "                break\n",
    "            if not '|' in line:\n",
    "                continue\n",
    "            if len(column_names) == 0:\n",
    "                column_names = [entry.replace(\" \", \"\")\n",
    "                                for entry in line.split(\"|\") if entry != \"\" and entry != \"\\n\"]\n",
    "                continue\n",
    "            if len(types) == 0:\n",
    "                types =  [entry.replace(\" \", \"\")\n",
    "                          for entry in line.split(\"|\") if entry != \"\" and entry != \"\\n\"]\n",
    "                continue\n",
    "            if \"<ValueS>\" in line:\n",
    "                table_starts = True\n",
    "                continue\n",
    "            if not table_starts:\n",
    "                continue\n",
    "            new_entry: List[str] = [entry.replace(\" \", \"\")\n",
    "                                    for entry in line.split(\"|\") if entry != \"\" and entry != \"\\n\"]\n",
    "            all_entries.append(new_entry)\n",
    "    as_type: Dict[str, str] = {column_names[i]:types[i] for i in range(0, len(column_names))}\n",
    "    return DataFrame(data=all_entries, columns=column_names).astype(as_type)\n",
    "\n",
    "simdcai = load_table(data_path / \"sizes_SIMDCAI.txt\")\n",
    "dictionary = load_table(data_path / \"sizes_Dictionary.txt\")\n",
    "turbopfor = load_table(data_path / \"sizes_turboPFOR.txt\")\n",
    "bitpacking = load_table(data_path / \"sizes_bitpacking_turbopfor.txt\")"
   ]
  },
  {
   "cell_type": "code",
   "execution_count": 89,
   "outputs": [
    {
     "data": {
      "text/plain": "  column_data_type  column_name\n0            float            9\n1              int           19\n2           string           33",
      "text/html": "<div>\n<style scoped>\n    .dataframe tbody tr th:only-of-type {\n        vertical-align: middle;\n    }\n\n    .dataframe tbody tr th {\n        vertical-align: top;\n    }\n\n    .dataframe thead th {\n        text-align: right;\n    }\n</style>\n<table border=\"1\" class=\"dataframe\">\n  <thead>\n    <tr style=\"text-align: right;\">\n      <th></th>\n      <th>column_data_type</th>\n      <th>column_name</th>\n    </tr>\n  </thead>\n  <tbody>\n    <tr>\n      <th>0</th>\n      <td>float</td>\n      <td>9</td>\n    </tr>\n    <tr>\n      <th>1</th>\n      <td>int</td>\n      <td>19</td>\n    </tr>\n    <tr>\n      <th>2</th>\n      <td>string</td>\n      <td>33</td>\n    </tr>\n  </tbody>\n</table>\n</div>"
     },
     "execution_count": 89,
     "metadata": {},
     "output_type": "execute_result"
    }
   ],
   "source": [
    "grouped_by_column: DataFrame = dictionary.groupby([\"table_name\", \"column_name\", \"column_data_type\"], as_index=False)[\"size_in_bytes\"].sum()\n",
    "columns_per_data_type: DataFrame = grouped_by_column.groupby([\"column_data_type\"], as_index=False)[\"column_name\"].count()\n",
    "size_per_data_type: DataFrame = grouped_by_column.groupby([\"column_data_type\"], as_index=False)[\"size_in_bytes\"].sum()\n",
    "columns_per_data_type"
   ],
   "metadata": {
    "collapsed": false,
    "pycharm": {
     "name": "#%%\n"
    }
   }
  },
  {
   "cell_type": "code",
   "execution_count": 43,
   "metadata": {},
   "outputs": [
    {
     "data": {
      "text/plain": "      table_name  chunk_id  column_id      column_name  column_data_type  \\\n0         nation         0          0      n_nationkey               int   \n2         nation         0          2      n_regionkey               int   \n4           part         0          0        p_partkey               int   \n9           part         0          5           p_size               int   \n13          part         1          0        p_partkey               int   \n...          ...       ...        ...              ...               ...   \n1799    customer         1          0        c_custkey               int   \n1802    customer         1          3      c_nationkey               int   \n1807    customer         2          0        c_custkey               int   \n1810    customer         2          3      c_nationkey               int   \n1815      region         0          0      r_regionkey               int   \n\n      distinct_value_count  encoding_type  vector_compression_type  \\\n0                       25        SIMDCAI                     NULL   \n2                        5        SIMDCAI                     NULL   \n4                    65535        SIMDCAI                     NULL   \n9                       50        SIMDCAI                     NULL   \n13                   65535        SIMDCAI                     NULL   \n...                    ...            ...                      ...   \n1799                 65535        SIMDCAI                     NULL   \n1802                    25        SIMDCAI                     NULL   \n1807                 18930        SIMDCAI                     NULL   \n1810                    25        SIMDCAI                     NULL   \n1815                     5        SIMDCAI                     NULL   \n\n      size_in_bytes  point_accesses  sequential_accesses  monotonic_accesses  \\\n0               193             400                 9175                3000   \n2               177               0                10075                   0   \n4            131233               0              6750105             2482034   \n9             49313              72              6750105            10049237   \n13           131233               0              6750105             2481940   \n...             ...             ...                  ...                 ...   \n1799         131233               0             25820790             4503907   \n1802          41121               0             19857105              523839   \n1807          35665               0              7458420             1300282   \n1810          12001               0              5735790              150846   \n1815            177             400                   15                   0   \n\n      random_accesses  dictionary_accesses  \n0                 800                    0  \n2                   0                    0  \n4              258395                    0  \n9              825280                    0  \n13             258689                    0  \n...               ...                  ...  \n1799         80162965                    0  \n1802          7965826                    0  \n1807         23140502                    0  \n1810          2303309                    0  \n1815                0                    0  \n\n[495 rows x 14 columns]",
      "text/html": "<div>\n<style scoped>\n    .dataframe tbody tr th:only-of-type {\n        vertical-align: middle;\n    }\n\n    .dataframe tbody tr th {\n        vertical-align: top;\n    }\n\n    .dataframe thead th {\n        text-align: right;\n    }\n</style>\n<table border=\"1\" class=\"dataframe\">\n  <thead>\n    <tr style=\"text-align: right;\">\n      <th></th>\n      <th>table_name</th>\n      <th>chunk_id</th>\n      <th>column_id</th>\n      <th>column_name</th>\n      <th>column_data_type</th>\n      <th>distinct_value_count</th>\n      <th>encoding_type</th>\n      <th>vector_compression_type</th>\n      <th>size_in_bytes</th>\n      <th>point_accesses</th>\n      <th>sequential_accesses</th>\n      <th>monotonic_accesses</th>\n      <th>random_accesses</th>\n      <th>dictionary_accesses</th>\n    </tr>\n  </thead>\n  <tbody>\n    <tr>\n      <th>0</th>\n      <td>nation</td>\n      <td>0</td>\n      <td>0</td>\n      <td>n_nationkey</td>\n      <td>int</td>\n      <td>25</td>\n      <td>SIMDCAI</td>\n      <td>NULL</td>\n      <td>193</td>\n      <td>400</td>\n      <td>9175</td>\n      <td>3000</td>\n      <td>800</td>\n      <td>0</td>\n    </tr>\n    <tr>\n      <th>2</th>\n      <td>nation</td>\n      <td>0</td>\n      <td>2</td>\n      <td>n_regionkey</td>\n      <td>int</td>\n      <td>5</td>\n      <td>SIMDCAI</td>\n      <td>NULL</td>\n      <td>177</td>\n      <td>0</td>\n      <td>10075</td>\n      <td>0</td>\n      <td>0</td>\n      <td>0</td>\n    </tr>\n    <tr>\n      <th>4</th>\n      <td>part</td>\n      <td>0</td>\n      <td>0</td>\n      <td>p_partkey</td>\n      <td>int</td>\n      <td>65535</td>\n      <td>SIMDCAI</td>\n      <td>NULL</td>\n      <td>131233</td>\n      <td>0</td>\n      <td>6750105</td>\n      <td>2482034</td>\n      <td>258395</td>\n      <td>0</td>\n    </tr>\n    <tr>\n      <th>9</th>\n      <td>part</td>\n      <td>0</td>\n      <td>5</td>\n      <td>p_size</td>\n      <td>int</td>\n      <td>50</td>\n      <td>SIMDCAI</td>\n      <td>NULL</td>\n      <td>49313</td>\n      <td>72</td>\n      <td>6750105</td>\n      <td>10049237</td>\n      <td>825280</td>\n      <td>0</td>\n    </tr>\n    <tr>\n      <th>13</th>\n      <td>part</td>\n      <td>1</td>\n      <td>0</td>\n      <td>p_partkey</td>\n      <td>int</td>\n      <td>65535</td>\n      <td>SIMDCAI</td>\n      <td>NULL</td>\n      <td>131233</td>\n      <td>0</td>\n      <td>6750105</td>\n      <td>2481940</td>\n      <td>258689</td>\n      <td>0</td>\n    </tr>\n    <tr>\n      <th>...</th>\n      <td>...</td>\n      <td>...</td>\n      <td>...</td>\n      <td>...</td>\n      <td>...</td>\n      <td>...</td>\n      <td>...</td>\n      <td>...</td>\n      <td>...</td>\n      <td>...</td>\n      <td>...</td>\n      <td>...</td>\n      <td>...</td>\n      <td>...</td>\n    </tr>\n    <tr>\n      <th>1799</th>\n      <td>customer</td>\n      <td>1</td>\n      <td>0</td>\n      <td>c_custkey</td>\n      <td>int</td>\n      <td>65535</td>\n      <td>SIMDCAI</td>\n      <td>NULL</td>\n      <td>131233</td>\n      <td>0</td>\n      <td>25820790</td>\n      <td>4503907</td>\n      <td>80162965</td>\n      <td>0</td>\n    </tr>\n    <tr>\n      <th>1802</th>\n      <td>customer</td>\n      <td>1</td>\n      <td>3</td>\n      <td>c_nationkey</td>\n      <td>int</td>\n      <td>25</td>\n      <td>SIMDCAI</td>\n      <td>NULL</td>\n      <td>41121</td>\n      <td>0</td>\n      <td>19857105</td>\n      <td>523839</td>\n      <td>7965826</td>\n      <td>0</td>\n    </tr>\n    <tr>\n      <th>1807</th>\n      <td>customer</td>\n      <td>2</td>\n      <td>0</td>\n      <td>c_custkey</td>\n      <td>int</td>\n      <td>18930</td>\n      <td>SIMDCAI</td>\n      <td>NULL</td>\n      <td>35665</td>\n      <td>0</td>\n      <td>7458420</td>\n      <td>1300282</td>\n      <td>23140502</td>\n      <td>0</td>\n    </tr>\n    <tr>\n      <th>1810</th>\n      <td>customer</td>\n      <td>2</td>\n      <td>3</td>\n      <td>c_nationkey</td>\n      <td>int</td>\n      <td>25</td>\n      <td>SIMDCAI</td>\n      <td>NULL</td>\n      <td>12001</td>\n      <td>0</td>\n      <td>5735790</td>\n      <td>150846</td>\n      <td>2303309</td>\n      <td>0</td>\n    </tr>\n    <tr>\n      <th>1815</th>\n      <td>region</td>\n      <td>0</td>\n      <td>0</td>\n      <td>r_regionkey</td>\n      <td>int</td>\n      <td>5</td>\n      <td>SIMDCAI</td>\n      <td>NULL</td>\n      <td>177</td>\n      <td>400</td>\n      <td>15</td>\n      <td>0</td>\n      <td>0</td>\n      <td>0</td>\n    </tr>\n  </tbody>\n</table>\n<p>495 rows × 14 columns</p>\n</div>"
     },
     "execution_count": 43,
     "metadata": {},
     "output_type": "execute_result"
    }
   ],
   "source": [
    "cols_with_simdcai_flags = simdcai[\"encoding_type\"].str.match(\".*SIMDCAI.*\")\n",
    "cols_with_simdcai = simdcai[cols_with_simdcai_flags]\n",
    "\n",
    "cols_with_tp_flags = turbopfor[\"encoding_type\"].str.match(\".*Turbo.*\")\n",
    "cols_with_tp = turbopfor[cols_with_tp_flags]\n"
   ]
  },
  {
   "cell_type": "code",
   "execution_count": 50,
   "metadata": {},
   "outputs": [
    {
     "data": {
      "text/plain": "      table_name  chunk_id  column_id      column_name  column_data_type  \\\n0         nation         0          0      n_nationkey               int   \n2         nation         0          2      n_regionkey               int   \n4           part         0          0        p_partkey               int   \n9           part         0          5           p_size               int   \n13          part         1          0        p_partkey               int   \n...          ...       ...        ...              ...               ...   \n1799    customer         1          0        c_custkey               int   \n1802    customer         1          3      c_nationkey               int   \n1807    customer         2          0        c_custkey               int   \n1810    customer         2          3      c_nationkey               int   \n1815      region         0          0      r_regionkey               int   \n\n      distinct_value_count  encoding_type  vector_compression_type  \\\n0                       25     Dictionary    FixedSize1ByteAligned   \n2                        5     Dictionary    FixedSize1ByteAligned   \n4                    65535     Dictionary    FixedSize2ByteAligned   \n9                       50     Dictionary    FixedSize1ByteAligned   \n13                   65535     Dictionary    FixedSize2ByteAligned   \n...                    ...            ...                      ...   \n1799                 65535     Dictionary    FixedSize2ByteAligned   \n1802                    25     Dictionary    FixedSize1ByteAligned   \n1807                 18930     Dictionary    FixedSize2ByteAligned   \n1810                    25     Dictionary    FixedSize1ByteAligned   \n1815                     5     Dictionary    FixedSize1ByteAligned   \n\n      size_in_bytes  point_accesses  sequential_accesses  monotonic_accesses  \\\n0               221             400                 9125                3000   \n2               141               0                10025                   0   \n4            393306               0              6619035             2480795   \n9             65831              61              6619035            10048311   \n13           393306               0              6619035             2482728   \n...             ...             ...                  ...                 ...   \n1799         393306               0             26279535             4503123   \n1802          65731               0             19726035              524141   \n1807         113676               0              7590930             1301100   \n1810          19126               0              5697930              151100   \n1815            121             400                    5                   0   \n\n      random_accesses  dictionary_accesses  \n0                 800                12525  \n2                   0                10025  \n4              255023              9099830  \n9              825429             10044683  \n13             264350              9101763  \n...               ...                  ...  \n1799         80182496             30782658  \n1802          7960469             20250176  \n1807         23145473              8892030  \n1810          2300494              5849030  \n1815                0                  405  \n\n[495 rows x 14 columns]",
      "text/html": "<div>\n<style scoped>\n    .dataframe tbody tr th:only-of-type {\n        vertical-align: middle;\n    }\n\n    .dataframe tbody tr th {\n        vertical-align: top;\n    }\n\n    .dataframe thead th {\n        text-align: right;\n    }\n</style>\n<table border=\"1\" class=\"dataframe\">\n  <thead>\n    <tr style=\"text-align: right;\">\n      <th></th>\n      <th>table_name</th>\n      <th>chunk_id</th>\n      <th>column_id</th>\n      <th>column_name</th>\n      <th>column_data_type</th>\n      <th>distinct_value_count</th>\n      <th>encoding_type</th>\n      <th>vector_compression_type</th>\n      <th>size_in_bytes</th>\n      <th>point_accesses</th>\n      <th>sequential_accesses</th>\n      <th>monotonic_accesses</th>\n      <th>random_accesses</th>\n      <th>dictionary_accesses</th>\n    </tr>\n  </thead>\n  <tbody>\n    <tr>\n      <th>0</th>\n      <td>nation</td>\n      <td>0</td>\n      <td>0</td>\n      <td>n_nationkey</td>\n      <td>int</td>\n      <td>25</td>\n      <td>Dictionary</td>\n      <td>FixedSize1ByteAligned</td>\n      <td>221</td>\n      <td>400</td>\n      <td>9125</td>\n      <td>3000</td>\n      <td>800</td>\n      <td>12525</td>\n    </tr>\n    <tr>\n      <th>2</th>\n      <td>nation</td>\n      <td>0</td>\n      <td>2</td>\n      <td>n_regionkey</td>\n      <td>int</td>\n      <td>5</td>\n      <td>Dictionary</td>\n      <td>FixedSize1ByteAligned</td>\n      <td>141</td>\n      <td>0</td>\n      <td>10025</td>\n      <td>0</td>\n      <td>0</td>\n      <td>10025</td>\n    </tr>\n    <tr>\n      <th>4</th>\n      <td>part</td>\n      <td>0</td>\n      <td>0</td>\n      <td>p_partkey</td>\n      <td>int</td>\n      <td>65535</td>\n      <td>Dictionary</td>\n      <td>FixedSize2ByteAligned</td>\n      <td>393306</td>\n      <td>0</td>\n      <td>6619035</td>\n      <td>2480795</td>\n      <td>255023</td>\n      <td>9099830</td>\n    </tr>\n    <tr>\n      <th>9</th>\n      <td>part</td>\n      <td>0</td>\n      <td>5</td>\n      <td>p_size</td>\n      <td>int</td>\n      <td>50</td>\n      <td>Dictionary</td>\n      <td>FixedSize1ByteAligned</td>\n      <td>65831</td>\n      <td>61</td>\n      <td>6619035</td>\n      <td>10048311</td>\n      <td>825429</td>\n      <td>10044683</td>\n    </tr>\n    <tr>\n      <th>13</th>\n      <td>part</td>\n      <td>1</td>\n      <td>0</td>\n      <td>p_partkey</td>\n      <td>int</td>\n      <td>65535</td>\n      <td>Dictionary</td>\n      <td>FixedSize2ByteAligned</td>\n      <td>393306</td>\n      <td>0</td>\n      <td>6619035</td>\n      <td>2482728</td>\n      <td>264350</td>\n      <td>9101763</td>\n    </tr>\n    <tr>\n      <th>...</th>\n      <td>...</td>\n      <td>...</td>\n      <td>...</td>\n      <td>...</td>\n      <td>...</td>\n      <td>...</td>\n      <td>...</td>\n      <td>...</td>\n      <td>...</td>\n      <td>...</td>\n      <td>...</td>\n      <td>...</td>\n      <td>...</td>\n      <td>...</td>\n    </tr>\n    <tr>\n      <th>1799</th>\n      <td>customer</td>\n      <td>1</td>\n      <td>0</td>\n      <td>c_custkey</td>\n      <td>int</td>\n      <td>65535</td>\n      <td>Dictionary</td>\n      <td>FixedSize2ByteAligned</td>\n      <td>393306</td>\n      <td>0</td>\n      <td>26279535</td>\n      <td>4503123</td>\n      <td>80182496</td>\n      <td>30782658</td>\n    </tr>\n    <tr>\n      <th>1802</th>\n      <td>customer</td>\n      <td>1</td>\n      <td>3</td>\n      <td>c_nationkey</td>\n      <td>int</td>\n      <td>25</td>\n      <td>Dictionary</td>\n      <td>FixedSize1ByteAligned</td>\n      <td>65731</td>\n      <td>0</td>\n      <td>19726035</td>\n      <td>524141</td>\n      <td>7960469</td>\n      <td>20250176</td>\n    </tr>\n    <tr>\n      <th>1807</th>\n      <td>customer</td>\n      <td>2</td>\n      <td>0</td>\n      <td>c_custkey</td>\n      <td>int</td>\n      <td>18930</td>\n      <td>Dictionary</td>\n      <td>FixedSize2ByteAligned</td>\n      <td>113676</td>\n      <td>0</td>\n      <td>7590930</td>\n      <td>1301100</td>\n      <td>23145473</td>\n      <td>8892030</td>\n    </tr>\n    <tr>\n      <th>1810</th>\n      <td>customer</td>\n      <td>2</td>\n      <td>3</td>\n      <td>c_nationkey</td>\n      <td>int</td>\n      <td>25</td>\n      <td>Dictionary</td>\n      <td>FixedSize1ByteAligned</td>\n      <td>19126</td>\n      <td>0</td>\n      <td>5697930</td>\n      <td>151100</td>\n      <td>2300494</td>\n      <td>5849030</td>\n    </tr>\n    <tr>\n      <th>1815</th>\n      <td>region</td>\n      <td>0</td>\n      <td>0</td>\n      <td>r_regionkey</td>\n      <td>int</td>\n      <td>5</td>\n      <td>Dictionary</td>\n      <td>FixedSize1ByteAligned</td>\n      <td>121</td>\n      <td>400</td>\n      <td>5</td>\n      <td>0</td>\n      <td>0</td>\n      <td>405</td>\n    </tr>\n  </tbody>\n</table>\n<p>495 rows × 14 columns</p>\n</div>"
     },
     "execution_count": 50,
     "metadata": {},
     "output_type": "execute_result"
    }
   ],
   "source": [
    "cols_with_simdcai_dict_encoded = dictionary[cols_with_simdcai_flags]\n",
    "cols_with_tp_dict_encoded = dictionary[cols_with_tp_flags]\n",
    "\n",
    "cols_with_simdcai_dict_encoded"
   ]
  },
  {
   "cell_type": "code",
   "execution_count": 45,
   "metadata": {},
   "outputs": [
    {
     "name": "stdout",
     "output_type": "stream",
     "text": [
      "56486271\n",
      "109498396\n",
      "56637286\n",
      "0.5158639127462652\n",
      "0.5172430653687383\n"
     ]
    }
   ],
   "source": [
    "size1 = cols_with_simdcai[\"size_in_bytes\"].sum()\n",
    "size2 = cols_with_simdcai_dict_encoded[\"size_in_bytes\"].sum()\n",
    "size3 = cols_with_tp[\"size_in_bytes\"].sum()\n",
    "\n",
    "print(size1/size2)\n",
    "print(size3/size2)"
   ]
  },
  {
   "cell_type": "code",
   "execution_count": 45,
   "metadata": {},
   "outputs": [],
   "source": []
  },
  {
   "cell_type": "code",
   "execution_count": 46,
   "metadata": {},
   "outputs": [
    {
     "data": {
      "text/plain": "0.11351794355486276"
     },
     "execution_count": 46,
     "metadata": {},
     "output_type": "execute_result"
    }
   ],
   "source": [
    "int_cols = dictionary[dictionary[\"column_data_type\"].str.match(\".*int.*\")]\n",
    "int_cols[\"size_in_bytes\"].sum() / dictionary[\"size_in_bytes\"].sum()"
   ]
  },
  {
   "cell_type": "code",
   "execution_count": 46,
   "metadata": {},
   "outputs": [],
   "source": []
  },
  {
   "cell_type": "code",
   "execution_count": 47,
   "metadata": {},
   "outputs": [
    {
     "data": {
      "text/plain": "<StringArray>\n['             int', '          string', '           float']\nLength: 3, dtype: string"
     },
     "execution_count": 47,
     "metadata": {},
     "output_type": "execute_result"
    }
   ],
   "source": [
    "dictionary[\"column_data_type\"].unique()"
   ]
  },
  {
   "cell_type": "code",
   "execution_count": 48,
   "metadata": {},
   "outputs": [
    {
     "data": {
      "text/plain": "0.9450418669742584"
     },
     "execution_count": 48,
     "metadata": {},
     "output_type": "execute_result"
    }
   ],
   "source": [
    "simdcai[\"size_in_bytes\"].sum() / dictionary[\"size_in_bytes\"].sum()"
   ]
  },
  {
   "cell_type": "code",
   "execution_count": 49,
   "metadata": {},
   "outputs": [
    {
     "data": {
      "text/plain": "0.9451984255438098"
     },
     "execution_count": 49,
     "metadata": {},
     "output_type": "execute_result"
    }
   ],
   "source": [
    "turbopfor[\"size_in_bytes\"].sum() / dictionary[\"size_in_bytes\"].sum()"
   ]
  },
  {
   "cell_type": "code",
   "execution_count": 49,
   "metadata": {},
   "outputs": [],
   "source": []
  }
 ],
 "metadata": {
  "kernelspec": {
   "display_name": "Python 3",
   "language": "python",
   "name": "python3"
  },
  "language_info": {
   "codemirror_mode": {
    "name": "ipython",
    "version": 3
   },
   "file_extension": ".py",
   "mimetype": "text/x-python",
   "name": "python",
   "nbconvert_exporter": "python",
   "pygments_lexer": "ipython3",
   "version": "3.9.1-final"
  }
 },
 "nbformat": 4,
 "nbformat_minor": 4
}