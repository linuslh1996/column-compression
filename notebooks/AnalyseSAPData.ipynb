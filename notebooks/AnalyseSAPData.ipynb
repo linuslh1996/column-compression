{
 "metadata": {
  "language_info": {
   "codemirror_mode": {
    "name": "ipython",
    "version": 3
   },
   "file_extension": ".py",
   "mimetype": "text/x-python",
   "name": "python",
   "nbconvert_exporter": "python",
   "pygments_lexer": "ipython3",
   "version": "3.9.1-final"
  },
  "orig_nbformat": 2,
  "kernelspec": {
   "name": "python3",
   "display_name": "Python 3",
   "language": "python"
  }
 },
 "nbformat": 4,
 "nbformat_minor": 2,
 "cells": [
  {
   "cell_type": "code",
   "execution_count": 60,
   "metadata": {},
   "outputs": [],
   "source": [
    "from pathlib import Path\n",
    "from typing import List\n",
    "import pandas as pd\n",
    "from pandas import DataFrame\n",
    "\n",
    "import seaborn as sns"
   ]
  },
  {
   "source": [
    "SCHEMA: int = 1\n",
    "TABLE_NAME: int = 2\n",
    "COLUMN_NAME: int = 4\n",
    "DATA_TYPE: int = 7\n",
    "\n",
    "data_path: Path = Path(\"../data/\")"
   ],
   "cell_type": "code",
   "metadata": {},
   "execution_count": 61,
   "outputs": []
  },
  {
   "cell_type": "markdown",
   "source": [
    "### Processing"
   ],
   "metadata": {
    "collapsed": false,
    "pycharm": {
     "name": "#%% md\n"
    }
   }
  },
  {
   "cell_type": "code",
   "execution_count": 62,
   "outputs": [
    {
     "name": "stderr",
     "output_type": "stream",
     "text": [
      "b'Skipping line 2937727: expected 37 fields, saw 38\\n'\n",
      "b'Skipping line 3073097: expected 37 fields, saw 39\\n'\n",
      "b'Skipping line 3084376: expected 37 fields, saw 39\\nSkipping line 3087083: expected 37 fields, saw 39\\n'\n",
      "b'Skipping line 3100565: expected 37 fields, saw 39\\nSkipping line 3103761: expected 37 fields, saw 39\\nSkipping line 3103764: expected 37 fields, saw 39\\n'\n",
      "/Users/linusheinzl/Documents/Semester2/DatabaseSystems/column-compression/venv/lib/python3.9/site-packages/IPython/core/interactiveshell.py:3146: DtypeWarning: Columns (12,14,25,30,35) have mixed types.Specify dtype option on import or set low_memory=False.\n",
      "  has_raised = await self.run_ast_nodes(code_ast.body, cell_name,\n"
     ]
    }
   ],
   "source": [
    "SAP_data_path: Path = data_path / \"data.csv\"\n",
    "SAP_data: DataFrame = pd.read_csv(SAP_data_path, header=None, sep=\",\", error_bad_lines=False)\n",
    "filtered_by_scheme: DataFrame = SAP_data[SAP_data[SCHEMA] == \"SAPISP\"]\n",
    "grouped_by_column: DataFrame = filtered_by_scheme\\\n",
    "    .groupby([DATA_TYPE, COLUMN_NAME, TABLE_NAME], as_index=False)[8].count()"
   ],
   "metadata": {
    "collapsed": false,
    "pycharm": {
     "name": "#%%\n"
    }
   }
  },
  {
   "cell_type": "code",
   "execution_count": 63,
   "outputs": [],
   "source": [
    "isp_plan_analyses: DataFrame = pd.read_csv(data_path / 'isp.csv')\n",
    "plan_executions = pd.read_csv(data_path / 'plan_execution_counts.csv')\n",
    "column_accesses = pd.merge(isp_plan_analyses, plan_executions)"
   ],
   "metadata": {
    "collapsed": false,
    "pycharm": {
     "name": "#%%\n"
    }
   }
  },
  {
   "cell_type": "code",
   "execution_count": 64,
   "outputs": [],
   "source": [
    "tables: List[str] = column_accesses[\"OBJECT_NAME\"].unique()\n",
    "only_valid_tables: DataFrame = grouped_by_column[grouped_by_column[TABLE_NAME].isin(tables)]"
   ],
   "metadata": {
    "collapsed": false,
    "pycharm": {
     "name": "#%%\n"
    }
   }
  },
  {
   "cell_type": "code",
   "execution_count": 65,
   "outputs": [],
   "source": [
    "with_type_info: DataFrame = pd.merge(column_accesses, only_valid_tables,\n",
    "                  left_on=[\"OBJECT_NAME\", \"COLUMN_NAME\"], right_on=[TABLE_NAME, COLUMN_NAME])"
   ],
   "metadata": {
    "collapsed": false,
    "pycharm": {
     "name": "#%%\n"
    }
   }
  },
  {
   "cell_type": "markdown",
   "source": [
    "### Results"
   ],
   "metadata": {
    "collapsed": false,
    "pycharm": {
     "name": "#%% md\n"
    }
   }
  },
  {
   "cell_type": "code",
   "execution_count": 66,
   "outputs": [
    {
     "data": {
      "text/plain": "USAGE        7        \nAGGREGATION  DECIMAL        2112038\n             NVARCHAR        270959\n             SMALLINT            76\nFILTER       DECIMAL         109823\n             NVARCHAR      40094250\nGROUPING     DECIMAL        3481070\n             NVARCHAR      45310567\n             VARBINARY       272736\nJOIN         NVARCHAR       8628297\nPROJECT      DECIMAL       15871133\n             NVARCHAR     109045298\n             SMALLINT            15\n             VARBINARY       290093\nSORTING      NVARCHAR         10797\nName: EXECUTION_COUNT, dtype: int64"
     },
     "execution_count": 66,
     "metadata": {},
     "output_type": "execute_result"
    }
   ],
   "source": [
    "with_type_info.groupby([\"USAGE\", DATA_TYPE])[\"EXECUTION_COUNT\"].sum()"
   ],
   "metadata": {
    "collapsed": false,
    "pycharm": {
     "name": "#%%\n"
    }
   }
  },
  {
   "cell_type": "code",
   "execution_count": 67,
   "outputs": [
    {
     "data": {
      "text/plain": "7\nDECIMAL       21574064\nNVARCHAR     203360168\nSMALLINT            91\nVARBINARY       562829\nName: EXECUTION_COUNT, dtype: int64"
     },
     "execution_count": 67,
     "metadata": {},
     "output_type": "execute_result"
    }
   ],
   "source": [
    "with_type_info.groupby([DATA_TYPE])[\"EXECUTION_COUNT\"].sum()"
   ],
   "metadata": {
    "collapsed": false,
    "pycharm": {
     "name": "#%%\n"
    }
   }
  },
  {
   "cell_type": "code",
   "execution_count": 68,
   "outputs": [
    {
     "data": {
      "text/plain": "7\nDECIMAL       448\nDOUBLE          5\nINTEGER         3\nNVARCHAR     2232\nSMALLINT        9\nVARBINARY       4\nName: 8, dtype: int64"
     },
     "execution_count": 68,
     "metadata": {},
     "output_type": "execute_result"
    }
   ],
   "source": [
    "only_valid_tables.groupby([DATA_TYPE])[8].count()"
   ],
   "metadata": {
    "collapsed": false,
    "pycharm": {
     "name": "#%%\n"
    }
   }
  }
 ]
}