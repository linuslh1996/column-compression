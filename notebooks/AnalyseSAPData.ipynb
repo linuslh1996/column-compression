{
 "metadata": {
  "language_info": {
   "codemirror_mode": {
    "name": "ipython",
    "version": 3
   },
   "file_extension": ".py",
   "mimetype": "text/x-python",
   "name": "python",
   "nbconvert_exporter": "python",
   "pygments_lexer": "ipython3",
   "version": "3.9.1-final"
  },
  "orig_nbformat": 2,
  "kernelspec": {
   "name": "python3",
   "display_name": "Python 3",
   "language": "python"
  }
 },
 "nbformat": 4,
 "nbformat_minor": 2,
 "cells": [
  {
   "cell_type": "code",
   "execution_count": 20,
   "metadata": {},
   "outputs": [],
   "source": [
    "from pathlib import Path\n",
    "from typing import List\n",
    "import pandas as pd\n",
    "from pandas import DataFrame\n",
    "\n",
    "import seaborn as sns"
   ]
  },
  {
   "source": [
    "SCHEMA: int = 1\n",
    "TABLE_NAME: int = 2\n",
    "COLUMN_NAME: int = 4\n",
    "DATA_TYPE: int = 7\n",
    "\n",
    "SAP_data_path: Path = Path(\"../data/data.csv\")\n",
    "SAP_data: DataFrame = pd.read_csv(SAP_data_path, header=None, sep=\",\", error_bad_lines=False)"
   ],
   "cell_type": "code",
   "metadata": {},
   "execution_count": 21,
   "outputs": [
    {
     "name": "stderr",
     "output_type": "stream",
     "text": [
      "b'Skipping line 2937727: expected 37 fields, saw 38\\n'\n",
      "b'Skipping line 3073097: expected 37 fields, saw 39\\n'\n",
      "b'Skipping line 3084376: expected 37 fields, saw 39\\nSkipping line 3087083: expected 37 fields, saw 39\\n'\n",
      "b'Skipping line 3100565: expected 37 fields, saw 39\\nSkipping line 3103761: expected 37 fields, saw 39\\nSkipping line 3103764: expected 37 fields, saw 39\\n'\n",
      "/Users/linusheinzl/Documents/Semester2/DatabaseSystems/column-compression/venv/lib/python3.9/site-packages/IPython/core/interactiveshell.py:3146: DtypeWarning: Columns (12,14,25,30,35) have mixed types.Specify dtype option on import or set low_memory=False.\n",
      "  has_raised = await self.run_ast_nodes(code_ast.body, cell_name,\n"
     ]
    }
   ]
  },
  {
   "cell_type": "code",
   "execution_count": 22,
   "outputs": [],
   "source": [
    "filtered_by_scheme: DataFrame = SAP_data[SAP_data[SCHEMA] == \"SAPISP\"]\n",
    "grouped_by_column: DataFrame = filtered_by_scheme\\\n",
    "    .groupby([TABLE_NAME, DATA_TYPE, COLUMN_NAME], as_index=False)[8].count()\n"
   ],
   "metadata": {
    "collapsed": false,
    "pycharm": {
     "name": "#%%\n"
    }
   }
  },
  {
   "cell_type": "code",
   "execution_count": 23,
   "outputs": [],
   "source": [
    "grouped_by_data_type: DataFrame = grouped_by_column.groupby([DATA_TYPE], as_index=False)[8].count()"
   ],
   "metadata": {
    "collapsed": false,
    "pycharm": {
     "name": "#%%\n"
    }
   }
  },
  {
   "cell_type": "code",
   "execution_count": 24,
   "outputs": [
    {
     "data": {
      "text/plain": "            7        8\n0      BIGINT      137\n1        BLOB     1329\n2        CHAR        1\n3     DECIMAL   217602\n4      DOUBLE     4269\n5     INTEGER    32899\n6       NCLOB     3617\n7    NVARCHAR  1811333\n8    SMALLINT     9804\n9   TIMESTAMP        1\n10    TINYINT       46\n11  VARBINARY    19769\n12    VARCHAR      126",
      "text/html": "<div>\n<style scoped>\n    .dataframe tbody tr th:only-of-type {\n        vertical-align: middle;\n    }\n\n    .dataframe tbody tr th {\n        vertical-align: top;\n    }\n\n    .dataframe thead th {\n        text-align: right;\n    }\n</style>\n<table border=\"1\" class=\"dataframe\">\n  <thead>\n    <tr style=\"text-align: right;\">\n      <th></th>\n      <th>7</th>\n      <th>8</th>\n    </tr>\n  </thead>\n  <tbody>\n    <tr>\n      <th>0</th>\n      <td>BIGINT</td>\n      <td>137</td>\n    </tr>\n    <tr>\n      <th>1</th>\n      <td>BLOB</td>\n      <td>1329</td>\n    </tr>\n    <tr>\n      <th>2</th>\n      <td>CHAR</td>\n      <td>1</td>\n    </tr>\n    <tr>\n      <th>3</th>\n      <td>DECIMAL</td>\n      <td>217602</td>\n    </tr>\n    <tr>\n      <th>4</th>\n      <td>DOUBLE</td>\n      <td>4269</td>\n    </tr>\n    <tr>\n      <th>5</th>\n      <td>INTEGER</td>\n      <td>32899</td>\n    </tr>\n    <tr>\n      <th>6</th>\n      <td>NCLOB</td>\n      <td>3617</td>\n    </tr>\n    <tr>\n      <th>7</th>\n      <td>NVARCHAR</td>\n      <td>1811333</td>\n    </tr>\n    <tr>\n      <th>8</th>\n      <td>SMALLINT</td>\n      <td>9804</td>\n    </tr>\n    <tr>\n      <th>9</th>\n      <td>TIMESTAMP</td>\n      <td>1</td>\n    </tr>\n    <tr>\n      <th>10</th>\n      <td>TINYINT</td>\n      <td>46</td>\n    </tr>\n    <tr>\n      <th>11</th>\n      <td>VARBINARY</td>\n      <td>19769</td>\n    </tr>\n    <tr>\n      <th>12</th>\n      <td>VARCHAR</td>\n      <td>126</td>\n    </tr>\n  </tbody>\n</table>\n</div>"
     },
     "execution_count": 24,
     "metadata": {},
     "output_type": "execute_result"
    }
   ],
   "source": [
    "grouped_by_data_type"
   ],
   "metadata": {
    "collapsed": false,
    "pycharm": {
     "name": "#%%\n"
    }
   }
  },
  {
   "cell_type": "code",
   "execution_count": 24,
   "outputs": [],
   "source": [],
   "metadata": {
    "collapsed": false,
    "pycharm": {
     "name": "#%%\n"
    }
   }
  }
 ]
}