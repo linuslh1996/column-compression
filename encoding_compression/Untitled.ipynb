{
 "cells": [
  {
   "cell_type": "code",
   "execution_count": 6,
   "metadata": {},
   "outputs": [],
   "source": [
    "import pandas as pd\n",
    "import matplotlib.pyplot as plt"
   ]
  },
  {
   "cell_type": "code",
   "execution_count": 7,
   "metadata": {},
   "outputs": [
    {
     "output_type": "execute_result",
     "data": {
      "text/plain": [
       "      Unnamed: 0  table_name  chunk_id  column_id      column_name  \\\n",
       "0            NaN      nation         0          0      n_nationkey   \n",
       "1            NaN      nation         0          1           n_name   \n",
       "2            NaN      nation         0          2      n_regionkey   \n",
       "3            NaN      nation         0          3        n_comment   \n",
       "4            NaN        part         0          0        p_partkey   \n",
       "...          ...         ...       ...        ...              ...   \n",
       "1813         NaN    customer         2          6     c_mktsegment   \n",
       "1814         NaN    customer         2          7        c_comment   \n",
       "1815         NaN      region         0          0      r_regionkey   \n",
       "1816         NaN      region         0          1           r_name   \n",
       "1817         NaN      region         0          2        r_comment   \n",
       "\n",
       "      column_data_type  distinct_value_count  encoding_type  \\\n",
       "0                  int                    25        SIMDCAI   \n",
       "1               string                    25     Dictionary   \n",
       "2                  int                     5        SIMDCAI   \n",
       "3               string                    25     Dictionary   \n",
       "4                  int                 65535        SIMDCAI   \n",
       "...                ...                   ...            ...   \n",
       "1813            string                     5     Dictionary   \n",
       "1814            string                 18930     Dictionary   \n",
       "1815               int                     5        SIMDCAI   \n",
       "1816            string                     5     Dictionary   \n",
       "1817            string                     5     Dictionary   \n",
       "\n",
       "      vector_compression_type  size_in_bytes  point_accesses  \\\n",
       "0                        NULL            185           11820   \n",
       "1       FixedSize1ByteAligned           1153               0   \n",
       "2                        NULL            169               0   \n",
       "3       FixedSize1ByteAligned           3035               0   \n",
       "4                        NULL         131225               0   \n",
       "...                       ...            ...             ...   \n",
       "1813    FixedSize1ByteAligned          19258               0   \n",
       "1814    FixedSize2ByteAligned        2187310               0   \n",
       "1815                     NULL            169           19160   \n",
       "1816    FixedSize1ByteAligned            333               0   \n",
       "1817    FixedSize1ByteAligned            668               0   \n",
       "\n",
       "      sequential_accesses  monotonic_accesses  random_accesses  \\\n",
       "0                   84175              141915             7520   \n",
       "1                  342525                   0         92019059   \n",
       "2                  479075                   0                0   \n",
       "3                      25                   0                0   \n",
       "4               165541410            21812299         10498144   \n",
       "...                   ...                 ...              ...   \n",
       "1813             12607380                   0                0   \n",
       "1814                18930                   0          1868908   \n",
       "1815                   15                   0                0   \n",
       "1816                95805                   0                0   \n",
       "1817                    5                   0                0   \n",
       "\n",
       "      dictionary_accesses  Unnamed: 15  \n",
       "0                       0          NaN  \n",
       "1                29206278          NaN  \n",
       "2                       0          NaN  \n",
       "3                      25          NaN  \n",
       "4                       0          NaN  \n",
       "...                   ...          ...  \n",
       "1813                22255          NaN  \n",
       "1814                18930          NaN  \n",
       "1815                    0          NaN  \n",
       "1816                95805          NaN  \n",
       "1817                    5          NaN  \n",
       "\n",
       "[1818 rows x 16 columns]"
      ],
      "text/html": "<div>\n<style scoped>\n    .dataframe tbody tr th:only-of-type {\n        vertical-align: middle;\n    }\n\n    .dataframe tbody tr th {\n        vertical-align: top;\n    }\n\n    .dataframe thead th {\n        text-align: right;\n    }\n</style>\n<table border=\"1\" class=\"dataframe\">\n  <thead>\n    <tr style=\"text-align: right;\">\n      <th></th>\n      <th>Unnamed: 0</th>\n      <th>table_name</th>\n      <th>chunk_id</th>\n      <th>column_id</th>\n      <th>column_name</th>\n      <th>column_data_type</th>\n      <th>distinct_value_count</th>\n      <th>encoding_type</th>\n      <th>vector_compression_type</th>\n      <th>size_in_bytes</th>\n      <th>point_accesses</th>\n      <th>sequential_accesses</th>\n      <th>monotonic_accesses</th>\n      <th>random_accesses</th>\n      <th>dictionary_accesses</th>\n      <th>Unnamed: 15</th>\n    </tr>\n  </thead>\n  <tbody>\n    <tr>\n      <th>0</th>\n      <td>NaN</td>\n      <td>nation</td>\n      <td>0</td>\n      <td>0</td>\n      <td>n_nationkey</td>\n      <td>int</td>\n      <td>25</td>\n      <td>SIMDCAI</td>\n      <td>NULL</td>\n      <td>185</td>\n      <td>11820</td>\n      <td>84175</td>\n      <td>141915</td>\n      <td>7520</td>\n      <td>0</td>\n      <td>NaN</td>\n    </tr>\n    <tr>\n      <th>1</th>\n      <td>NaN</td>\n      <td>nation</td>\n      <td>0</td>\n      <td>1</td>\n      <td>n_name</td>\n      <td>string</td>\n      <td>25</td>\n      <td>Dictionary</td>\n      <td>FixedSize1ByteAligned</td>\n      <td>1153</td>\n      <td>0</td>\n      <td>342525</td>\n      <td>0</td>\n      <td>92019059</td>\n      <td>29206278</td>\n      <td>NaN</td>\n    </tr>\n    <tr>\n      <th>2</th>\n      <td>NaN</td>\n      <td>nation</td>\n      <td>0</td>\n      <td>2</td>\n      <td>n_regionkey</td>\n      <td>int</td>\n      <td>5</td>\n      <td>SIMDCAI</td>\n      <td>NULL</td>\n      <td>169</td>\n      <td>0</td>\n      <td>479075</td>\n      <td>0</td>\n      <td>0</td>\n      <td>0</td>\n      <td>NaN</td>\n    </tr>\n    <tr>\n      <th>3</th>\n      <td>NaN</td>\n      <td>nation</td>\n      <td>0</td>\n      <td>3</td>\n      <td>n_comment</td>\n      <td>string</td>\n      <td>25</td>\n      <td>Dictionary</td>\n      <td>FixedSize1ByteAligned</td>\n      <td>3035</td>\n      <td>0</td>\n      <td>25</td>\n      <td>0</td>\n      <td>0</td>\n      <td>25</td>\n      <td>NaN</td>\n    </tr>\n    <tr>\n      <th>4</th>\n      <td>NaN</td>\n      <td>part</td>\n      <td>0</td>\n      <td>0</td>\n      <td>p_partkey</td>\n      <td>int</td>\n      <td>65535</td>\n      <td>SIMDCAI</td>\n      <td>NULL</td>\n      <td>131225</td>\n      <td>0</td>\n      <td>165541410</td>\n      <td>21812299</td>\n      <td>10498144</td>\n      <td>0</td>\n      <td>NaN</td>\n    </tr>\n    <tr>\n      <th>...</th>\n      <td>...</td>\n      <td>...</td>\n      <td>...</td>\n      <td>...</td>\n      <td>...</td>\n      <td>...</td>\n      <td>...</td>\n      <td>...</td>\n      <td>...</td>\n      <td>...</td>\n      <td>...</td>\n      <td>...</td>\n      <td>...</td>\n      <td>...</td>\n      <td>...</td>\n      <td>...</td>\n    </tr>\n    <tr>\n      <th>1813</th>\n      <td>NaN</td>\n      <td>customer</td>\n      <td>2</td>\n      <td>6</td>\n      <td>c_mktsegment</td>\n      <td>string</td>\n      <td>5</td>\n      <td>Dictionary</td>\n      <td>FixedSize1ByteAligned</td>\n      <td>19258</td>\n      <td>0</td>\n      <td>12607380</td>\n      <td>0</td>\n      <td>0</td>\n      <td>22255</td>\n      <td>NaN</td>\n    </tr>\n    <tr>\n      <th>1814</th>\n      <td>NaN</td>\n      <td>customer</td>\n      <td>2</td>\n      <td>7</td>\n      <td>c_comment</td>\n      <td>string</td>\n      <td>18930</td>\n      <td>Dictionary</td>\n      <td>FixedSize2ByteAligned</td>\n      <td>2187310</td>\n      <td>0</td>\n      <td>18930</td>\n      <td>0</td>\n      <td>1868908</td>\n      <td>18930</td>\n      <td>NaN</td>\n    </tr>\n    <tr>\n      <th>1815</th>\n      <td>NaN</td>\n      <td>region</td>\n      <td>0</td>\n      <td>0</td>\n      <td>r_regionkey</td>\n      <td>int</td>\n      <td>5</td>\n      <td>SIMDCAI</td>\n      <td>NULL</td>\n      <td>169</td>\n      <td>19160</td>\n      <td>15</td>\n      <td>0</td>\n      <td>0</td>\n      <td>0</td>\n      <td>NaN</td>\n    </tr>\n    <tr>\n      <th>1816</th>\n      <td>NaN</td>\n      <td>region</td>\n      <td>0</td>\n      <td>1</td>\n      <td>r_name</td>\n      <td>string</td>\n      <td>5</td>\n      <td>Dictionary</td>\n      <td>FixedSize1ByteAligned</td>\n      <td>333</td>\n      <td>0</td>\n      <td>95805</td>\n      <td>0</td>\n      <td>0</td>\n      <td>95805</td>\n      <td>NaN</td>\n    </tr>\n    <tr>\n      <th>1817</th>\n      <td>NaN</td>\n      <td>region</td>\n      <td>0</td>\n      <td>2</td>\n      <td>r_comment</td>\n      <td>string</td>\n      <td>5</td>\n      <td>Dictionary</td>\n      <td>FixedSize1ByteAligned</td>\n      <td>668</td>\n      <td>0</td>\n      <td>5</td>\n      <td>0</td>\n      <td>0</td>\n      <td>5</td>\n      <td>NaN</td>\n    </tr>\n  </tbody>\n</table>\n<p>1818 rows × 16 columns</p>\n</div>"
     },
     "metadata": {},
     "execution_count": 7
    }
   ],
   "source": [
    "simdcai = pd.read_csv(\"simdcai_out.csv\", sep=\"|\")\n",
    "simdcai"
   ]
  },
  {
   "cell_type": "code",
   "execution_count": 8,
   "metadata": {},
   "outputs": [
    {
     "output_type": "execute_result",
     "data": {
      "text/plain": [
       "      Unnamed: 0  table_name  chunk_id  column_id      column_name  \\\n",
       "0            NaN      nation         0          0      n_nationkey   \n",
       "1            NaN      nation         0          1           n_name   \n",
       "2            NaN      nation         0          2      n_regionkey   \n",
       "3            NaN      nation         0          3        n_comment   \n",
       "4            NaN        part         0          0        p_partkey   \n",
       "...          ...         ...       ...        ...              ...   \n",
       "1813         NaN    customer         2          6     c_mktsegment   \n",
       "1814         NaN    customer         2          7        c_comment   \n",
       "1815         NaN      region         0          0      r_regionkey   \n",
       "1816         NaN      region         0          1           r_name   \n",
       "1817         NaN      region         0          2        r_comment   \n",
       "\n",
       "      column_data_type  distinct_value_count  encoding_type  \\\n",
       "0                  int                    25     Dictionary   \n",
       "1               string                    25     Dictionary   \n",
       "2                  int                     5     Dictionary   \n",
       "3               string                    25     Dictionary   \n",
       "4                  int                 65535     Dictionary   \n",
       "...                ...                   ...            ...   \n",
       "1813            string                     5     Dictionary   \n",
       "1814            string                 18930     Dictionary   \n",
       "1815               int                     5     Dictionary   \n",
       "1816            string                     5     Dictionary   \n",
       "1817            string                     5     Dictionary   \n",
       "\n",
       "      vector_compression_type  size_in_bytes  point_accesses  \\\n",
       "0       FixedSize1ByteAligned            221           17183   \n",
       "1       FixedSize1ByteAligned           1153               0   \n",
       "2       FixedSize1ByteAligned            141               0   \n",
       "3       FixedSize1ByteAligned           3035               0   \n",
       "4       FixedSize2ByteAligned         393306               0   \n",
       "...                       ...            ...             ...   \n",
       "1813    FixedSize1ByteAligned          19258               0   \n",
       "1814    FixedSize2ByteAligned        2187310               0   \n",
       "1815    FixedSize1ByteAligned            121           29285   \n",
       "1816    FixedSize1ByteAligned            333               0   \n",
       "1817    FixedSize1ByteAligned            668               0   \n",
       "\n",
       "      sequential_accesses  monotonic_accesses  random_accesses  \\\n",
       "0                   87625              218360             6608   \n",
       "1                  470900                   0         93066942   \n",
       "2                  732150                   0                0   \n",
       "3                      25                   0                0   \n",
       "4               164951595            25635312          9958529   \n",
       "...                   ...                 ...              ...   \n",
       "1813             11774460                   0                0   \n",
       "1814                18930                   0          1989316   \n",
       "1815                    5                   0                0   \n",
       "1816               146430                   0                0   \n",
       "1817                    5                   0                0   \n",
       "\n",
       "      dictionary_accesses  Unnamed: 15  \n",
       "0                  323168          NaN  \n",
       "1                32240604          NaN  \n",
       "2                  732150          NaN  \n",
       "3                      25          NaN  \n",
       "4               190586907          NaN  \n",
       "...                   ...          ...  \n",
       "1813                22035          NaN  \n",
       "1814                18930          NaN  \n",
       "1815                29290          NaN  \n",
       "1816               146430          NaN  \n",
       "1817                    5          NaN  \n",
       "\n",
       "[1818 rows x 16 columns]"
      ],
      "text/html": "<div>\n<style scoped>\n    .dataframe tbody tr th:only-of-type {\n        vertical-align: middle;\n    }\n\n    .dataframe tbody tr th {\n        vertical-align: top;\n    }\n\n    .dataframe thead th {\n        text-align: right;\n    }\n</style>\n<table border=\"1\" class=\"dataframe\">\n  <thead>\n    <tr style=\"text-align: right;\">\n      <th></th>\n      <th>Unnamed: 0</th>\n      <th>table_name</th>\n      <th>chunk_id</th>\n      <th>column_id</th>\n      <th>column_name</th>\n      <th>column_data_type</th>\n      <th>distinct_value_count</th>\n      <th>encoding_type</th>\n      <th>vector_compression_type</th>\n      <th>size_in_bytes</th>\n      <th>point_accesses</th>\n      <th>sequential_accesses</th>\n      <th>monotonic_accesses</th>\n      <th>random_accesses</th>\n      <th>dictionary_accesses</th>\n      <th>Unnamed: 15</th>\n    </tr>\n  </thead>\n  <tbody>\n    <tr>\n      <th>0</th>\n      <td>NaN</td>\n      <td>nation</td>\n      <td>0</td>\n      <td>0</td>\n      <td>n_nationkey</td>\n      <td>int</td>\n      <td>25</td>\n      <td>Dictionary</td>\n      <td>FixedSize1ByteAligned</td>\n      <td>221</td>\n      <td>17183</td>\n      <td>87625</td>\n      <td>218360</td>\n      <td>6608</td>\n      <td>323168</td>\n      <td>NaN</td>\n    </tr>\n    <tr>\n      <th>1</th>\n      <td>NaN</td>\n      <td>nation</td>\n      <td>0</td>\n      <td>1</td>\n      <td>n_name</td>\n      <td>string</td>\n      <td>25</td>\n      <td>Dictionary</td>\n      <td>FixedSize1ByteAligned</td>\n      <td>1153</td>\n      <td>0</td>\n      <td>470900</td>\n      <td>0</td>\n      <td>93066942</td>\n      <td>32240604</td>\n      <td>NaN</td>\n    </tr>\n    <tr>\n      <th>2</th>\n      <td>NaN</td>\n      <td>nation</td>\n      <td>0</td>\n      <td>2</td>\n      <td>n_regionkey</td>\n      <td>int</td>\n      <td>5</td>\n      <td>Dictionary</td>\n      <td>FixedSize1ByteAligned</td>\n      <td>141</td>\n      <td>0</td>\n      <td>732150</td>\n      <td>0</td>\n      <td>0</td>\n      <td>732150</td>\n      <td>NaN</td>\n    </tr>\n    <tr>\n      <th>3</th>\n      <td>NaN</td>\n      <td>nation</td>\n      <td>0</td>\n      <td>3</td>\n      <td>n_comment</td>\n      <td>string</td>\n      <td>25</td>\n      <td>Dictionary</td>\n      <td>FixedSize1ByteAligned</td>\n      <td>3035</td>\n      <td>0</td>\n      <td>25</td>\n      <td>0</td>\n      <td>0</td>\n      <td>25</td>\n      <td>NaN</td>\n    </tr>\n    <tr>\n      <th>4</th>\n      <td>NaN</td>\n      <td>part</td>\n      <td>0</td>\n      <td>0</td>\n      <td>p_partkey</td>\n      <td>int</td>\n      <td>65535</td>\n      <td>Dictionary</td>\n      <td>FixedSize2ByteAligned</td>\n      <td>393306</td>\n      <td>0</td>\n      <td>164951595</td>\n      <td>25635312</td>\n      <td>9958529</td>\n      <td>190586907</td>\n      <td>NaN</td>\n    </tr>\n    <tr>\n      <th>...</th>\n      <td>...</td>\n      <td>...</td>\n      <td>...</td>\n      <td>...</td>\n      <td>...</td>\n      <td>...</td>\n      <td>...</td>\n      <td>...</td>\n      <td>...</td>\n      <td>...</td>\n      <td>...</td>\n      <td>...</td>\n      <td>...</td>\n      <td>...</td>\n      <td>...</td>\n      <td>...</td>\n    </tr>\n    <tr>\n      <th>1813</th>\n      <td>NaN</td>\n      <td>customer</td>\n      <td>2</td>\n      <td>6</td>\n      <td>c_mktsegment</td>\n      <td>string</td>\n      <td>5</td>\n      <td>Dictionary</td>\n      <td>FixedSize1ByteAligned</td>\n      <td>19258</td>\n      <td>0</td>\n      <td>11774460</td>\n      <td>0</td>\n      <td>0</td>\n      <td>22035</td>\n      <td>NaN</td>\n    </tr>\n    <tr>\n      <th>1814</th>\n      <td>NaN</td>\n      <td>customer</td>\n      <td>2</td>\n      <td>7</td>\n      <td>c_comment</td>\n      <td>string</td>\n      <td>18930</td>\n      <td>Dictionary</td>\n      <td>FixedSize2ByteAligned</td>\n      <td>2187310</td>\n      <td>0</td>\n      <td>18930</td>\n      <td>0</td>\n      <td>1989316</td>\n      <td>18930</td>\n      <td>NaN</td>\n    </tr>\n    <tr>\n      <th>1815</th>\n      <td>NaN</td>\n      <td>region</td>\n      <td>0</td>\n      <td>0</td>\n      <td>r_regionkey</td>\n      <td>int</td>\n      <td>5</td>\n      <td>Dictionary</td>\n      <td>FixedSize1ByteAligned</td>\n      <td>121</td>\n      <td>29285</td>\n      <td>5</td>\n      <td>0</td>\n      <td>0</td>\n      <td>29290</td>\n      <td>NaN</td>\n    </tr>\n    <tr>\n      <th>1816</th>\n      <td>NaN</td>\n      <td>region</td>\n      <td>0</td>\n      <td>1</td>\n      <td>r_name</td>\n      <td>string</td>\n      <td>5</td>\n      <td>Dictionary</td>\n      <td>FixedSize1ByteAligned</td>\n      <td>333</td>\n      <td>0</td>\n      <td>146430</td>\n      <td>0</td>\n      <td>0</td>\n      <td>146430</td>\n      <td>NaN</td>\n    </tr>\n    <tr>\n      <th>1817</th>\n      <td>NaN</td>\n      <td>region</td>\n      <td>0</td>\n      <td>2</td>\n      <td>r_comment</td>\n      <td>string</td>\n      <td>5</td>\n      <td>Dictionary</td>\n      <td>FixedSize1ByteAligned</td>\n      <td>668</td>\n      <td>0</td>\n      <td>5</td>\n      <td>0</td>\n      <td>0</td>\n      <td>5</td>\n      <td>NaN</td>\n    </tr>\n  </tbody>\n</table>\n<p>1818 rows × 16 columns</p>\n</div>"
     },
     "metadata": {},
     "execution_count": 8
    }
   ],
   "source": [
    "dictionary = pd.read_csv(\"dictionary_out.csv\", sep=\"|\")\n",
    "dictionary"
   ]
  },
  {
   "cell_type": "code",
   "execution_count": 9,
   "metadata": {},
   "outputs": [
    {
     "output_type": "execute_result",
     "data": {
      "text/plain": [
       "      Unnamed: 0  table_name  chunk_id  column_id      column_name  \\\n",
       "0            NaN      nation         0          0      n_nationkey   \n",
       "1            NaN      nation         0          1           n_name   \n",
       "2            NaN      nation         0          2      n_regionkey   \n",
       "3            NaN      nation         0          3        n_comment   \n",
       "4            NaN        part         0          0        p_partkey   \n",
       "...          ...         ...       ...        ...              ...   \n",
       "1813         NaN    customer         2          6     c_mktsegment   \n",
       "1814         NaN    customer         2          7        c_comment   \n",
       "1815         NaN      region         0          0      r_regionkey   \n",
       "1816         NaN      region         0          1           r_name   \n",
       "1817         NaN      region         0          2        r_comment   \n",
       "\n",
       "      column_data_type  distinct_value_count  encoding_type  \\\n",
       "0                  int                    25      TurboPFOR   \n",
       "1               string                    25     Dictionary   \n",
       "2                  int                     5      TurboPFOR   \n",
       "3               string                    25     Dictionary   \n",
       "4                  int                 65535      TurboPFOR   \n",
       "...                ...                   ...            ...   \n",
       "1813            string                     5     Dictionary   \n",
       "1814            string                 18930     Dictionary   \n",
       "1815               int                     5      TurboPFOR   \n",
       "1816            string                     5     Dictionary   \n",
       "1817            string                     5     Dictionary   \n",
       "\n",
       "      vector_compression_type  size_in_bytes  point_accesses  \\\n",
       "0                        NULL            523            8598   \n",
       "1       FixedSize1ByteAligned           1153               0   \n",
       "2                        NULL            516               0   \n",
       "3       FixedSize1ByteAligned           3035               0   \n",
       "4                        NULL         124918               0   \n",
       "...                       ...            ...             ...   \n",
       "1813    FixedSize1ByteAligned          19258               0   \n",
       "1814    FixedSize2ByteAligned        2187310               0   \n",
       "1815                     NULL            510           11984   \n",
       "1816    FixedSize1ByteAligned            333               0   \n",
       "1817    FixedSize1ByteAligned            668               0   \n",
       "\n",
       "      sequential_accesses  monotonic_accesses  random_accesses  \\\n",
       "0                   66950               88850             5872   \n",
       "1                  251675                   0         91546861   \n",
       "2                  299675                   0                0   \n",
       "3                      25                   0                0   \n",
       "4               155383485            16331237          4904223   \n",
       "...                   ...                 ...              ...   \n",
       "1813             10165410                   0                0   \n",
       "1814                18930                   0          1786874   \n",
       "1815                   15                   0                0   \n",
       "1816                59925                   0                0   \n",
       "1817                    5                   0                0   \n",
       "\n",
       "      dictionary_accesses  Unnamed: 15  \n",
       "0                       0          NaN  \n",
       "1                40496829          NaN  \n",
       "2                       0          NaN  \n",
       "3                      25          NaN  \n",
       "4                       0          NaN  \n",
       "...                   ...          ...  \n",
       "1813                21610          NaN  \n",
       "1814                18930          NaN  \n",
       "1815                    0          NaN  \n",
       "1816                59925          NaN  \n",
       "1817                    5          NaN  \n",
       "\n",
       "[1818 rows x 16 columns]"
      ],
      "text/html": "<div>\n<style scoped>\n    .dataframe tbody tr th:only-of-type {\n        vertical-align: middle;\n    }\n\n    .dataframe tbody tr th {\n        vertical-align: top;\n    }\n\n    .dataframe thead th {\n        text-align: right;\n    }\n</style>\n<table border=\"1\" class=\"dataframe\">\n  <thead>\n    <tr style=\"text-align: right;\">\n      <th></th>\n      <th>Unnamed: 0</th>\n      <th>table_name</th>\n      <th>chunk_id</th>\n      <th>column_id</th>\n      <th>column_name</th>\n      <th>column_data_type</th>\n      <th>distinct_value_count</th>\n      <th>encoding_type</th>\n      <th>vector_compression_type</th>\n      <th>size_in_bytes</th>\n      <th>point_accesses</th>\n      <th>sequential_accesses</th>\n      <th>monotonic_accesses</th>\n      <th>random_accesses</th>\n      <th>dictionary_accesses</th>\n      <th>Unnamed: 15</th>\n    </tr>\n  </thead>\n  <tbody>\n    <tr>\n      <th>0</th>\n      <td>NaN</td>\n      <td>nation</td>\n      <td>0</td>\n      <td>0</td>\n      <td>n_nationkey</td>\n      <td>int</td>\n      <td>25</td>\n      <td>TurboPFOR</td>\n      <td>NULL</td>\n      <td>523</td>\n      <td>8598</td>\n      <td>66950</td>\n      <td>88850</td>\n      <td>5872</td>\n      <td>0</td>\n      <td>NaN</td>\n    </tr>\n    <tr>\n      <th>1</th>\n      <td>NaN</td>\n      <td>nation</td>\n      <td>0</td>\n      <td>1</td>\n      <td>n_name</td>\n      <td>string</td>\n      <td>25</td>\n      <td>Dictionary</td>\n      <td>FixedSize1ByteAligned</td>\n      <td>1153</td>\n      <td>0</td>\n      <td>251675</td>\n      <td>0</td>\n      <td>91546861</td>\n      <td>40496829</td>\n      <td>NaN</td>\n    </tr>\n    <tr>\n      <th>2</th>\n      <td>NaN</td>\n      <td>nation</td>\n      <td>0</td>\n      <td>2</td>\n      <td>n_regionkey</td>\n      <td>int</td>\n      <td>5</td>\n      <td>TurboPFOR</td>\n      <td>NULL</td>\n      <td>516</td>\n      <td>0</td>\n      <td>299675</td>\n      <td>0</td>\n      <td>0</td>\n      <td>0</td>\n      <td>NaN</td>\n    </tr>\n    <tr>\n      <th>3</th>\n      <td>NaN</td>\n      <td>nation</td>\n      <td>0</td>\n      <td>3</td>\n      <td>n_comment</td>\n      <td>string</td>\n      <td>25</td>\n      <td>Dictionary</td>\n      <td>FixedSize1ByteAligned</td>\n      <td>3035</td>\n      <td>0</td>\n      <td>25</td>\n      <td>0</td>\n      <td>0</td>\n      <td>25</td>\n      <td>NaN</td>\n    </tr>\n    <tr>\n      <th>4</th>\n      <td>NaN</td>\n      <td>part</td>\n      <td>0</td>\n      <td>0</td>\n      <td>p_partkey</td>\n      <td>int</td>\n      <td>65535</td>\n      <td>TurboPFOR</td>\n      <td>NULL</td>\n      <td>124918</td>\n      <td>0</td>\n      <td>155383485</td>\n      <td>16331237</td>\n      <td>4904223</td>\n      <td>0</td>\n      <td>NaN</td>\n    </tr>\n    <tr>\n      <th>...</th>\n      <td>...</td>\n      <td>...</td>\n      <td>...</td>\n      <td>...</td>\n      <td>...</td>\n      <td>...</td>\n      <td>...</td>\n      <td>...</td>\n      <td>...</td>\n      <td>...</td>\n      <td>...</td>\n      <td>...</td>\n      <td>...</td>\n      <td>...</td>\n      <td>...</td>\n      <td>...</td>\n    </tr>\n    <tr>\n      <th>1813</th>\n      <td>NaN</td>\n      <td>customer</td>\n      <td>2</td>\n      <td>6</td>\n      <td>c_mktsegment</td>\n      <td>string</td>\n      <td>5</td>\n      <td>Dictionary</td>\n      <td>FixedSize1ByteAligned</td>\n      <td>19258</td>\n      <td>0</td>\n      <td>10165410</td>\n      <td>0</td>\n      <td>0</td>\n      <td>21610</td>\n      <td>NaN</td>\n    </tr>\n    <tr>\n      <th>1814</th>\n      <td>NaN</td>\n      <td>customer</td>\n      <td>2</td>\n      <td>7</td>\n      <td>c_comment</td>\n      <td>string</td>\n      <td>18930</td>\n      <td>Dictionary</td>\n      <td>FixedSize2ByteAligned</td>\n      <td>2187310</td>\n      <td>0</td>\n      <td>18930</td>\n      <td>0</td>\n      <td>1786874</td>\n      <td>18930</td>\n      <td>NaN</td>\n    </tr>\n    <tr>\n      <th>1815</th>\n      <td>NaN</td>\n      <td>region</td>\n      <td>0</td>\n      <td>0</td>\n      <td>r_regionkey</td>\n      <td>int</td>\n      <td>5</td>\n      <td>TurboPFOR</td>\n      <td>NULL</td>\n      <td>510</td>\n      <td>11984</td>\n      <td>15</td>\n      <td>0</td>\n      <td>0</td>\n      <td>0</td>\n      <td>NaN</td>\n    </tr>\n    <tr>\n      <th>1816</th>\n      <td>NaN</td>\n      <td>region</td>\n      <td>0</td>\n      <td>1</td>\n      <td>r_name</td>\n      <td>string</td>\n      <td>5</td>\n      <td>Dictionary</td>\n      <td>FixedSize1ByteAligned</td>\n      <td>333</td>\n      <td>0</td>\n      <td>59925</td>\n      <td>0</td>\n      <td>0</td>\n      <td>59925</td>\n      <td>NaN</td>\n    </tr>\n    <tr>\n      <th>1817</th>\n      <td>NaN</td>\n      <td>region</td>\n      <td>0</td>\n      <td>2</td>\n      <td>r_comment</td>\n      <td>string</td>\n      <td>5</td>\n      <td>Dictionary</td>\n      <td>FixedSize1ByteAligned</td>\n      <td>668</td>\n      <td>0</td>\n      <td>5</td>\n      <td>0</td>\n      <td>0</td>\n      <td>5</td>\n      <td>NaN</td>\n    </tr>\n  </tbody>\n</table>\n<p>1818 rows × 16 columns</p>\n</div>"
     },
     "metadata": {},
     "execution_count": 9
    }
   ],
   "source": [
    "turbopfor = pd.read_csv(\"sizes_turboPFOR.txt\", sep=\"|\")\n",
    "turbopfor"
   ]
  },
  {
   "cell_type": "code",
   "execution_count": 18,
   "metadata": {},
   "outputs": [
    {
     "output_type": "execute_result",
     "data": {
      "text/plain": [
       "      Unnamed: 0  table_name  chunk_id  column_id      column_name  \\\n",
       "0            NaN      nation         0          0      n_nationkey   \n",
       "2            NaN      nation         0          2      n_regionkey   \n",
       "4            NaN        part         0          0        p_partkey   \n",
       "9            NaN        part         0          5           p_size   \n",
       "13           NaN        part         1          0        p_partkey   \n",
       "...          ...         ...       ...        ...              ...   \n",
       "1799         NaN    customer         1          0        c_custkey   \n",
       "1802         NaN    customer         1          3      c_nationkey   \n",
       "1807         NaN    customer         2          0        c_custkey   \n",
       "1810         NaN    customer         2          3      c_nationkey   \n",
       "1815         NaN      region         0          0      r_regionkey   \n",
       "\n",
       "      column_data_type  distinct_value_count  encoding_type  \\\n",
       "0                  int                    25        SIMDCAI   \n",
       "2                  int                     5        SIMDCAI   \n",
       "4                  int                 65535        SIMDCAI   \n",
       "9                  int                    50        SIMDCAI   \n",
       "13                 int                 65535        SIMDCAI   \n",
       "...                ...                   ...            ...   \n",
       "1799               int                 65535        SIMDCAI   \n",
       "1802               int                    25        SIMDCAI   \n",
       "1807               int                 18930        SIMDCAI   \n",
       "1810               int                    25        SIMDCAI   \n",
       "1815               int                     5        SIMDCAI   \n",
       "\n",
       "      vector_compression_type  size_in_bytes  point_accesses  \\\n",
       "0                        NULL            185           11820   \n",
       "2                        NULL            169               0   \n",
       "4                        NULL         131225               0   \n",
       "9                        NULL          49305            1260   \n",
       "13                       NULL         131225               0   \n",
       "...                       ...            ...             ...   \n",
       "1799                     NULL         131225               0   \n",
       "1802                     NULL          41113               0   \n",
       "1807                     NULL          35657               0   \n",
       "1810                     NULL          11993               0   \n",
       "1815                     NULL            169           19160   \n",
       "\n",
       "      sequential_accesses  monotonic_accesses  random_accesses  \\\n",
       "0                   84175              141915             7520   \n",
       "2                  479075                   0                0   \n",
       "4               165541410            21812299         10498144   \n",
       "9               593157285            72485844          5924016   \n",
       "13              165541410            21801590         10554349   \n",
       "...                   ...                 ...              ...   \n",
       "1799             50199810            40087099        103256739   \n",
       "1802            145815375             4928035         13969828   \n",
       "1807             14500380            11568333         29789818   \n",
       "1810             42119250             1427498          4038984   \n",
       "1815                   15                   0                0   \n",
       "\n",
       "      dictionary_accesses  Unnamed: 15  \n",
       "0                       0          NaN  \n",
       "2                       0          NaN  \n",
       "4                       0          NaN  \n",
       "9                       0          NaN  \n",
       "13                      0          NaN  \n",
       "...                   ...          ...  \n",
       "1799                    0          NaN  \n",
       "1802                    0          NaN  \n",
       "1807                    0          NaN  \n",
       "1810                    0          NaN  \n",
       "1815                    0          NaN  \n",
       "\n",
       "[495 rows x 16 columns]"
      ],
      "text/html": "<div>\n<style scoped>\n    .dataframe tbody tr th:only-of-type {\n        vertical-align: middle;\n    }\n\n    .dataframe tbody tr th {\n        vertical-align: top;\n    }\n\n    .dataframe thead th {\n        text-align: right;\n    }\n</style>\n<table border=\"1\" class=\"dataframe\">\n  <thead>\n    <tr style=\"text-align: right;\">\n      <th></th>\n      <th>Unnamed: 0</th>\n      <th>table_name</th>\n      <th>chunk_id</th>\n      <th>column_id</th>\n      <th>column_name</th>\n      <th>column_data_type</th>\n      <th>distinct_value_count</th>\n      <th>encoding_type</th>\n      <th>vector_compression_type</th>\n      <th>size_in_bytes</th>\n      <th>point_accesses</th>\n      <th>sequential_accesses</th>\n      <th>monotonic_accesses</th>\n      <th>random_accesses</th>\n      <th>dictionary_accesses</th>\n      <th>Unnamed: 15</th>\n    </tr>\n  </thead>\n  <tbody>\n    <tr>\n      <th>0</th>\n      <td>NaN</td>\n      <td>nation</td>\n      <td>0</td>\n      <td>0</td>\n      <td>n_nationkey</td>\n      <td>int</td>\n      <td>25</td>\n      <td>SIMDCAI</td>\n      <td>NULL</td>\n      <td>185</td>\n      <td>11820</td>\n      <td>84175</td>\n      <td>141915</td>\n      <td>7520</td>\n      <td>0</td>\n      <td>NaN</td>\n    </tr>\n    <tr>\n      <th>2</th>\n      <td>NaN</td>\n      <td>nation</td>\n      <td>0</td>\n      <td>2</td>\n      <td>n_regionkey</td>\n      <td>int</td>\n      <td>5</td>\n      <td>SIMDCAI</td>\n      <td>NULL</td>\n      <td>169</td>\n      <td>0</td>\n      <td>479075</td>\n      <td>0</td>\n      <td>0</td>\n      <td>0</td>\n      <td>NaN</td>\n    </tr>\n    <tr>\n      <th>4</th>\n      <td>NaN</td>\n      <td>part</td>\n      <td>0</td>\n      <td>0</td>\n      <td>p_partkey</td>\n      <td>int</td>\n      <td>65535</td>\n      <td>SIMDCAI</td>\n      <td>NULL</td>\n      <td>131225</td>\n      <td>0</td>\n      <td>165541410</td>\n      <td>21812299</td>\n      <td>10498144</td>\n      <td>0</td>\n      <td>NaN</td>\n    </tr>\n    <tr>\n      <th>9</th>\n      <td>NaN</td>\n      <td>part</td>\n      <td>0</td>\n      <td>5</td>\n      <td>p_size</td>\n      <td>int</td>\n      <td>50</td>\n      <td>SIMDCAI</td>\n      <td>NULL</td>\n      <td>49305</td>\n      <td>1260</td>\n      <td>593157285</td>\n      <td>72485844</td>\n      <td>5924016</td>\n      <td>0</td>\n      <td>NaN</td>\n    </tr>\n    <tr>\n      <th>13</th>\n      <td>NaN</td>\n      <td>part</td>\n      <td>1</td>\n      <td>0</td>\n      <td>p_partkey</td>\n      <td>int</td>\n      <td>65535</td>\n      <td>SIMDCAI</td>\n      <td>NULL</td>\n      <td>131225</td>\n      <td>0</td>\n      <td>165541410</td>\n      <td>21801590</td>\n      <td>10554349</td>\n      <td>0</td>\n      <td>NaN</td>\n    </tr>\n    <tr>\n      <th>...</th>\n      <td>...</td>\n      <td>...</td>\n      <td>...</td>\n      <td>...</td>\n      <td>...</td>\n      <td>...</td>\n      <td>...</td>\n      <td>...</td>\n      <td>...</td>\n      <td>...</td>\n      <td>...</td>\n      <td>...</td>\n      <td>...</td>\n      <td>...</td>\n      <td>...</td>\n      <td>...</td>\n    </tr>\n    <tr>\n      <th>1799</th>\n      <td>NaN</td>\n      <td>customer</td>\n      <td>1</td>\n      <td>0</td>\n      <td>c_custkey</td>\n      <td>int</td>\n      <td>65535</td>\n      <td>SIMDCAI</td>\n      <td>NULL</td>\n      <td>131225</td>\n      <td>0</td>\n      <td>50199810</td>\n      <td>40087099</td>\n      <td>103256739</td>\n      <td>0</td>\n      <td>NaN</td>\n    </tr>\n    <tr>\n      <th>1802</th>\n      <td>NaN</td>\n      <td>customer</td>\n      <td>1</td>\n      <td>3</td>\n      <td>c_nationkey</td>\n      <td>int</td>\n      <td>25</td>\n      <td>SIMDCAI</td>\n      <td>NULL</td>\n      <td>41113</td>\n      <td>0</td>\n      <td>145815375</td>\n      <td>4928035</td>\n      <td>13969828</td>\n      <td>0</td>\n      <td>NaN</td>\n    </tr>\n    <tr>\n      <th>1807</th>\n      <td>NaN</td>\n      <td>customer</td>\n      <td>2</td>\n      <td>0</td>\n      <td>c_custkey</td>\n      <td>int</td>\n      <td>18930</td>\n      <td>SIMDCAI</td>\n      <td>NULL</td>\n      <td>35657</td>\n      <td>0</td>\n      <td>14500380</td>\n      <td>11568333</td>\n      <td>29789818</td>\n      <td>0</td>\n      <td>NaN</td>\n    </tr>\n    <tr>\n      <th>1810</th>\n      <td>NaN</td>\n      <td>customer</td>\n      <td>2</td>\n      <td>3</td>\n      <td>c_nationkey</td>\n      <td>int</td>\n      <td>25</td>\n      <td>SIMDCAI</td>\n      <td>NULL</td>\n      <td>11993</td>\n      <td>0</td>\n      <td>42119250</td>\n      <td>1427498</td>\n      <td>4038984</td>\n      <td>0</td>\n      <td>NaN</td>\n    </tr>\n    <tr>\n      <th>1815</th>\n      <td>NaN</td>\n      <td>region</td>\n      <td>0</td>\n      <td>0</td>\n      <td>r_regionkey</td>\n      <td>int</td>\n      <td>5</td>\n      <td>SIMDCAI</td>\n      <td>NULL</td>\n      <td>169</td>\n      <td>19160</td>\n      <td>15</td>\n      <td>0</td>\n      <td>0</td>\n      <td>0</td>\n      <td>NaN</td>\n    </tr>\n  </tbody>\n</table>\n<p>495 rows × 16 columns</p>\n</div>"
     },
     "metadata": {},
     "execution_count": 18
    }
   ],
   "source": [
    "cols_with_simdcai_flags = simdcai[\"encoding_type\"].str.match(\".*SIMDCAI.*\")\n",
    "cols_with_simdcai = simdcai[cols_with_simdcai_flags]\n",
    "\n",
    "cols_with_tp_flags = turbopfor[\"encoding_type\"].str.match(\".*Turbo.*\")\n",
    "cols_with_tp = turbopfor[cols_with_tp_flags]\n",
    "\n",
    "cols_with_simdcai"
   ]
  },
  {
   "cell_type": "code",
   "execution_count": 19,
   "metadata": {},
   "outputs": [
    {
     "output_type": "execute_result",
     "data": {
      "text/plain": [
       "      Unnamed: 0  table_name  chunk_id  column_id      column_name  \\\n",
       "0            NaN      nation         0          0      n_nationkey   \n",
       "2            NaN      nation         0          2      n_regionkey   \n",
       "4            NaN        part         0          0        p_partkey   \n",
       "9            NaN        part         0          5           p_size   \n",
       "13           NaN        part         1          0        p_partkey   \n",
       "...          ...         ...       ...        ...              ...   \n",
       "1799         NaN    customer         1          0        c_custkey   \n",
       "1802         NaN    customer         1          3      c_nationkey   \n",
       "1807         NaN    customer         2          0        c_custkey   \n",
       "1810         NaN    customer         2          3      c_nationkey   \n",
       "1815         NaN      region         0          0      r_regionkey   \n",
       "\n",
       "      column_data_type  distinct_value_count  encoding_type  \\\n",
       "0                  int                    25     Dictionary   \n",
       "2                  int                     5     Dictionary   \n",
       "4                  int                 65535     Dictionary   \n",
       "9                  int                    50     Dictionary   \n",
       "13                 int                 65535     Dictionary   \n",
       "...                ...                   ...            ...   \n",
       "1799               int                 65535     Dictionary   \n",
       "1802               int                    25     Dictionary   \n",
       "1807               int                 18930     Dictionary   \n",
       "1810               int                    25     Dictionary   \n",
       "1815               int                     5     Dictionary   \n",
       "\n",
       "      vector_compression_type  size_in_bytes  point_accesses  \\\n",
       "0       FixedSize1ByteAligned            221           17183   \n",
       "2       FixedSize1ByteAligned            141               0   \n",
       "4       FixedSize2ByteAligned         393306               0   \n",
       "9       FixedSize1ByteAligned          65831            1017   \n",
       "13      FixedSize2ByteAligned         393306               0   \n",
       "...                       ...            ...             ...   \n",
       "1799    FixedSize2ByteAligned         393306               0   \n",
       "1802    FixedSize1ByteAligned          65731               0   \n",
       "1807    FixedSize2ByteAligned         113676               0   \n",
       "1810    FixedSize1ByteAligned          19126               0   \n",
       "1815    FixedSize1ByteAligned            121           29285   \n",
       "\n",
       "      sequential_accesses  monotonic_accesses  random_accesses  \\\n",
       "0                   87625              218360             6608   \n",
       "2                  732150                   0                0   \n",
       "4               164951595            25635312          9958529   \n",
       "9               927582390            77724260          6364410   \n",
       "13              164951595            25628743          9962211   \n",
       "...                   ...                 ...              ...   \n",
       "1799             58260615            35939423        127714181   \n",
       "1802            130414650             4331529         18638291   \n",
       "1807             16828770            10360710         36858397   \n",
       "1810             37670700             1250161          5386165   \n",
       "1815                    5                   0                0   \n",
       "\n",
       "      dictionary_accesses  Unnamed: 15  \n",
       "0                  323168          NaN  \n",
       "2                  732150          NaN  \n",
       "4               190586907          NaN  \n",
       "9                76796281          NaN  \n",
       "13              190580338          NaN  \n",
       "...                   ...          ...  \n",
       "1799             94200038          NaN  \n",
       "1802            134746179          NaN  \n",
       "1807             27189480          NaN  \n",
       "1810             38920861          NaN  \n",
       "1815                29290          NaN  \n",
       "\n",
       "[495 rows x 16 columns]"
      ],
      "text/html": "<div>\n<style scoped>\n    .dataframe tbody tr th:only-of-type {\n        vertical-align: middle;\n    }\n\n    .dataframe tbody tr th {\n        vertical-align: top;\n    }\n\n    .dataframe thead th {\n        text-align: right;\n    }\n</style>\n<table border=\"1\" class=\"dataframe\">\n  <thead>\n    <tr style=\"text-align: right;\">\n      <th></th>\n      <th>Unnamed: 0</th>\n      <th>table_name</th>\n      <th>chunk_id</th>\n      <th>column_id</th>\n      <th>column_name</th>\n      <th>column_data_type</th>\n      <th>distinct_value_count</th>\n      <th>encoding_type</th>\n      <th>vector_compression_type</th>\n      <th>size_in_bytes</th>\n      <th>point_accesses</th>\n      <th>sequential_accesses</th>\n      <th>monotonic_accesses</th>\n      <th>random_accesses</th>\n      <th>dictionary_accesses</th>\n      <th>Unnamed: 15</th>\n    </tr>\n  </thead>\n  <tbody>\n    <tr>\n      <th>0</th>\n      <td>NaN</td>\n      <td>nation</td>\n      <td>0</td>\n      <td>0</td>\n      <td>n_nationkey</td>\n      <td>int</td>\n      <td>25</td>\n      <td>Dictionary</td>\n      <td>FixedSize1ByteAligned</td>\n      <td>221</td>\n      <td>17183</td>\n      <td>87625</td>\n      <td>218360</td>\n      <td>6608</td>\n      <td>323168</td>\n      <td>NaN</td>\n    </tr>\n    <tr>\n      <th>2</th>\n      <td>NaN</td>\n      <td>nation</td>\n      <td>0</td>\n      <td>2</td>\n      <td>n_regionkey</td>\n      <td>int</td>\n      <td>5</td>\n      <td>Dictionary</td>\n      <td>FixedSize1ByteAligned</td>\n      <td>141</td>\n      <td>0</td>\n      <td>732150</td>\n      <td>0</td>\n      <td>0</td>\n      <td>732150</td>\n      <td>NaN</td>\n    </tr>\n    <tr>\n      <th>4</th>\n      <td>NaN</td>\n      <td>part</td>\n      <td>0</td>\n      <td>0</td>\n      <td>p_partkey</td>\n      <td>int</td>\n      <td>65535</td>\n      <td>Dictionary</td>\n      <td>FixedSize2ByteAligned</td>\n      <td>393306</td>\n      <td>0</td>\n      <td>164951595</td>\n      <td>25635312</td>\n      <td>9958529</td>\n      <td>190586907</td>\n      <td>NaN</td>\n    </tr>\n    <tr>\n      <th>9</th>\n      <td>NaN</td>\n      <td>part</td>\n      <td>0</td>\n      <td>5</td>\n      <td>p_size</td>\n      <td>int</td>\n      <td>50</td>\n      <td>Dictionary</td>\n      <td>FixedSize1ByteAligned</td>\n      <td>65831</td>\n      <td>1017</td>\n      <td>927582390</td>\n      <td>77724260</td>\n      <td>6364410</td>\n      <td>76796281</td>\n      <td>NaN</td>\n    </tr>\n    <tr>\n      <th>13</th>\n      <td>NaN</td>\n      <td>part</td>\n      <td>1</td>\n      <td>0</td>\n      <td>p_partkey</td>\n      <td>int</td>\n      <td>65535</td>\n      <td>Dictionary</td>\n      <td>FixedSize2ByteAligned</td>\n      <td>393306</td>\n      <td>0</td>\n      <td>164951595</td>\n      <td>25628743</td>\n      <td>9962211</td>\n      <td>190580338</td>\n      <td>NaN</td>\n    </tr>\n    <tr>\n      <th>...</th>\n      <td>...</td>\n      <td>...</td>\n      <td>...</td>\n      <td>...</td>\n      <td>...</td>\n      <td>...</td>\n      <td>...</td>\n      <td>...</td>\n      <td>...</td>\n      <td>...</td>\n      <td>...</td>\n      <td>...</td>\n      <td>...</td>\n      <td>...</td>\n      <td>...</td>\n      <td>...</td>\n    </tr>\n    <tr>\n      <th>1799</th>\n      <td>NaN</td>\n      <td>customer</td>\n      <td>1</td>\n      <td>0</td>\n      <td>c_custkey</td>\n      <td>int</td>\n      <td>65535</td>\n      <td>Dictionary</td>\n      <td>FixedSize2ByteAligned</td>\n      <td>393306</td>\n      <td>0</td>\n      <td>58260615</td>\n      <td>35939423</td>\n      <td>127714181</td>\n      <td>94200038</td>\n      <td>NaN</td>\n    </tr>\n    <tr>\n      <th>1802</th>\n      <td>NaN</td>\n      <td>customer</td>\n      <td>1</td>\n      <td>3</td>\n      <td>c_nationkey</td>\n      <td>int</td>\n      <td>25</td>\n      <td>Dictionary</td>\n      <td>FixedSize1ByteAligned</td>\n      <td>65731</td>\n      <td>0</td>\n      <td>130414650</td>\n      <td>4331529</td>\n      <td>18638291</td>\n      <td>134746179</td>\n      <td>NaN</td>\n    </tr>\n    <tr>\n      <th>1807</th>\n      <td>NaN</td>\n      <td>customer</td>\n      <td>2</td>\n      <td>0</td>\n      <td>c_custkey</td>\n      <td>int</td>\n      <td>18930</td>\n      <td>Dictionary</td>\n      <td>FixedSize2ByteAligned</td>\n      <td>113676</td>\n      <td>0</td>\n      <td>16828770</td>\n      <td>10360710</td>\n      <td>36858397</td>\n      <td>27189480</td>\n      <td>NaN</td>\n    </tr>\n    <tr>\n      <th>1810</th>\n      <td>NaN</td>\n      <td>customer</td>\n      <td>2</td>\n      <td>3</td>\n      <td>c_nationkey</td>\n      <td>int</td>\n      <td>25</td>\n      <td>Dictionary</td>\n      <td>FixedSize1ByteAligned</td>\n      <td>19126</td>\n      <td>0</td>\n      <td>37670700</td>\n      <td>1250161</td>\n      <td>5386165</td>\n      <td>38920861</td>\n      <td>NaN</td>\n    </tr>\n    <tr>\n      <th>1815</th>\n      <td>NaN</td>\n      <td>region</td>\n      <td>0</td>\n      <td>0</td>\n      <td>r_regionkey</td>\n      <td>int</td>\n      <td>5</td>\n      <td>Dictionary</td>\n      <td>FixedSize1ByteAligned</td>\n      <td>121</td>\n      <td>29285</td>\n      <td>5</td>\n      <td>0</td>\n      <td>0</td>\n      <td>29290</td>\n      <td>NaN</td>\n    </tr>\n  </tbody>\n</table>\n<p>495 rows × 16 columns</p>\n</div>"
     },
     "metadata": {},
     "execution_count": 19
    }
   ],
   "source": [
    "cols_with_simdcai_dict_encoded = dictionary[cols_with_simdcai_flags]\n",
    "\n",
    "cols_with_tp_dict_encoded = dictionary[cols_with_tp_flags]\n",
    "\n",
    "cols_with_simdcai_dict_encoded"
   ]
  },
  {
   "cell_type": "code",
   "execution_count": 20,
   "metadata": {},
   "outputs": [
    {
     "output_type": "stream",
     "name": "stdout",
     "text": [
      "56482311\n109498396\n56637286\n0.5158277478329454\n0.5172430653687383\n"
     ]
    }
   ],
   "source": [
    "size1 = cols_with_simdcai[\"size_in_bytes\"].sum()\n",
    "size2 = cols_with_simdcai_dict_encoded[\"size_in_bytes\"].sum()\n",
    "size3 = cols_with_tp[\"size_in_bytes\"].sum()\n",
    "\n",
    "print(size1)\n",
    "print(size2)\n",
    "print(size3)\n",
    "\n",
    "\n",
    "print(size1/size2)\n",
    "print(size3/size2)"
   ]
  },
  {
   "cell_type": "code",
   "execution_count": null,
   "metadata": {},
   "outputs": [],
   "source": []
  },
  {
   "cell_type": "code",
   "execution_count": 13,
   "metadata": {},
   "outputs": [
    {
     "output_type": "execute_result",
     "data": {
      "text/plain": [
       "0.11353100856895045"
      ]
     },
     "metadata": {},
     "execution_count": 13
    }
   ],
   "source": [
    "int_cols = dictionary[dictionary[\"column_data_type\"].str.match(\".*int.*\")]\n",
    "int_cols[\"size_in_bytes\"].sum() / dictionary[\"size_in_bytes\"].sum()"
   ]
  },
  {
   "cell_type": "code",
   "execution_count": null,
   "metadata": {},
   "outputs": [],
   "source": []
  },
  {
   "cell_type": "code",
   "execution_count": 14,
   "metadata": {},
   "outputs": [
    {
     "output_type": "execute_result",
     "data": {
      "text/plain": [
       "array(['             int', '          string', '           float'],\n",
       "      dtype=object)"
      ]
     },
     "metadata": {},
     "execution_count": 14
    }
   ],
   "source": [
    "dictionary[\"column_data_type\"].unique()"
   ]
  },
  {
   "cell_type": "code",
   "execution_count": 15,
   "metadata": {},
   "outputs": [
    {
     "output_type": "execute_result",
     "data": {
      "text/plain": [
       "0.9450314358903741"
      ]
     },
     "metadata": {},
     "execution_count": 15
    }
   ],
   "source": [
    "simdcai[\"size_in_bytes\"].sum() / dictionary[\"size_in_bytes\"].sum()"
   ]
  },
  {
   "cell_type": "code",
   "execution_count": 21,
   "metadata": {},
   "outputs": [
    {
     "output_type": "execute_result",
     "data": {
      "text/plain": [
       "0.945192118317658"
      ]
     },
     "metadata": {},
     "execution_count": 21
    }
   ],
   "source": [
    "turbopfor[\"size_in_bytes\"].sum() / dictionary[\"size_in_bytes\"].sum()"
   ]
  },
  {
   "cell_type": "code",
   "execution_count": null,
   "metadata": {},
   "outputs": [],
   "source": []
  }
 ],
 "metadata": {
  "kernelspec": {
   "display_name": "Python 3",
   "language": "python",
   "name": "python3"
  },
  "language_info": {
   "codemirror_mode": {
    "name": "ipython",
    "version": 3
   },
   "file_extension": ".py",
   "mimetype": "text/x-python",
   "name": "python",
   "nbconvert_exporter": "python",
   "pygments_lexer": "ipython3",
   "version": "3.9.1-final"
  }
 },
 "nbformat": 4,
 "nbformat_minor": 4
}